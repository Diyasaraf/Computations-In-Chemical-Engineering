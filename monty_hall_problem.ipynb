{
  "nbformat": 4,
  "nbformat_minor": 0,
  "metadata": {
    "colab": {
      "provenance": []
    },
    "kernelspec": {
      "name": "python3",
      "display_name": "Python 3"
    },
    "language_info": {
      "name": "python"
    }
  },
  "cells": [
    {
      "cell_type": "code",
      "execution_count": 1,
      "metadata": {
        "id": "VMDX4bSPf5P1"
      },
      "outputs": [],
      "source": [
        "import numpy as np"
      ]
    },
    {
      "cell_type": "code",
      "source": [
        "np.random.seed(1)  # reproducibility\n",
        "repeats = int(1e4)  # We will repeat the experiment 10000 times\n",
        "win_no_switch = np.zeros(repeats)  # 0 or 1 based on winning no switch\n",
        "win_switch = np.zeros(repeats)  # 0 or 1 based on winning switch\n",
        "\n",
        "for r in range(repeats):  # Repeat process many times\n",
        "    # The setup\n",
        "    doors = [0, 1, 2]  # three doors\n",
        "    prize = np.random.choice(doors)  # randomly select the door which has the prize\n",
        "\n",
        "    # Contestants are ready. Game starts\n",
        "    chosen_door = np.random.choice(doors)  # choose a door\n",
        "\n",
        "    # reveal a door that is not the chosen door and not the door with a prize in it\n",
        "    reveal = np.setdiff1d(doors, [prize, chosen_door])[0]\n",
        "    win_no_switch[r] = (chosen_door == prize)  # tracking win if don't change door\n",
        "    chosen_door = np.setdiff1d(doors, [reveal, chosen_door])[0]  # change door\n",
        "    win_switch[r] = (chosen_door == prize)  # tracking win if change door"
      ],
      "metadata": {
        "id": "uA0W-0z0f_RY"
      },
      "execution_count": 2,
      "outputs": []
    },
    {
      "cell_type": "code",
      "source": [
        "print(f'Prob of winning if you don\\'t switch: {np.mean(win_no_switch)}')"
      ],
      "metadata": {
        "colab": {
          "base_uri": "https://localhost:8080/"
        },
        "id": "s9wZCmMbgG3j",
        "outputId": "6f8905c3-8862-4790-bf0d-002fd29fe426"
      },
      "execution_count": 3,
      "outputs": [
        {
          "output_type": "stream",
          "name": "stdout",
          "text": [
            "Prob of winning if you don't switch: 0.3277\n"
          ]
        }
      ]
    },
    {
      "cell_type": "code",
      "source": [
        "print(f'Prob of winning if you switch: {np.mean(win_switch)}')"
      ],
      "metadata": {
        "id": "M8rLAkZYgJeA",
        "outputId": "7e530939-c5e4-4f8c-ebff-ac897e8d7cfa",
        "colab": {
          "base_uri": "https://localhost:8080/"
        }
      },
      "execution_count": 4,
      "outputs": [
        {
          "output_type": "stream",
          "name": "stdout",
          "text": [
            "Prob of winning if you switch: 0.6723\n"
          ]
        }
      ]
    }
  ]
}